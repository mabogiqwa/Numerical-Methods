{
 "cells": [
  {
   "cell_type": "code",
   "execution_count": 1,
   "id": "8cbf1dce",
   "metadata": {},
   "outputs": [],
   "source": [
    "import numpy as np"
   ]
  },
  {
   "cell_type": "code",
   "execution_count": 36,
   "id": "bbe647c5",
   "metadata": {},
   "outputs": [],
   "source": [
    "def sor(A, b, omega, x0=None, tolerance=1e-10, max_iterations=100):\n",
    "    \"\"\"\n",
    "    Successive Over-Relaxation (SOR) method for solving Ax = b.\n",
    "    Prints solution vector at each iteration.\n",
    "    \n",
    "    Parameters:\n",
    "        A (ndarray): Coefficient matrix (n x n)\n",
    "        b (ndarray): Constant vector (n x 1)\n",
    "        omega (float): Relaxation factor (0 < omega < 2)\n",
    "        x0 (ndarray, optional): Initial guess. If None, uses zeros\n",
    "        tolerance (float): Convergence tolerance\n",
    "        max_iterations (int): Maximum number of iterations\n",
    "        \n",
    "    Returns:\n",
    "        tuple: (x, iterations)\n",
    "            - x (ndarray): Final solution vector\n",
    "            - iterations (int): Number of iterations performed\n",
    "    \"\"\"\n",
    "    # Input validation\n",
    "    A = np.asarray(A)\n",
    "    b = np.asarray(b)\n",
    "    \n",
    "    if A.shape[0] != A.shape[1]:\n",
    "        raise ValueError(\"Matrix A must be square\")\n",
    "    \n",
    "    n = A.shape[0]\n",
    "    \n",
    "    if b.shape != (n,):\n",
    "        raise ValueError(f\"Vector b must have shape ({n},), got {b.shape}\")\n",
    "    \n",
    "    # Initialize solution vector\n",
    "    if x0 is None:\n",
    "        x = np.zeros(n)\n",
    "    else:\n",
    "        x = np.asarray(x0).copy()\n",
    "        if x.shape != (n,):\n",
    "            raise ValueError(f\"Initial guess x0 must have shape ({n},), got {x.shape}\")\n",
    "    \n",
    "    # Print initial guess\n",
    "    print(f\"Initial x:\")\n",
    "    print(x)\n",
    "    print()\n",
    "    \n",
    "    # Main iteration loop\n",
    "    for iteration in range(int(max_iterations)):\n",
    "        x_old = x.copy()\n",
    "        \n",
    "        for i in range(n):\n",
    "            sigma = np.dot(A[i, :i], x[:i]) + np.dot(A[i, i+1:], x_old[i+1:])\n",
    "            x[i] = (1 - omega) * x_old[i] + (omega / A[i, i]) * (b[i] - sigma)\n",
    "        \n",
    "        # Print current solution\n",
    "        print(f\"Iteration {iteration + 1}:\")\n",
    "        print(x)\n",
    "        print()\n",
    "        \n",
    "        # Check convergence using relative error\n",
    "        error = np.linalg.norm(x - x_old) / (np.linalg.norm(x) + np.finfo(float).eps)\n",
    "        if error < tolerance:\n",
    "            return x, iteration + 1\n",
    "    \n",
    "    return x, max_iterations"
   ]
  },
  {
   "cell_type": "code",
   "execution_count": 46,
   "id": "3eba5426",
   "metadata": {},
   "outputs": [],
   "source": [
    "A = np.array([[2, 2, 2], [-1, 0, 1], [3, 5, 6]], dtype=float)\n",
    "b = np.array([-1, 3, 0], dtype=float)\n",
    "omega = 1.1  # Relaxation factor\n",
    "x0 = np.array([0, 0, 0], dtype=float)  # Initial coefficient matrix\n",
    "tolerance = 1e-5\n",
    "max_iterations = 5"
   ]
  },
  {
   "cell_type": "code",
   "execution_count": 47,
   "id": "ae8f5b1a",
   "metadata": {
    "scrolled": false
   },
   "outputs": [
    {
     "name": "stdout",
     "output_type": "stream",
     "text": [
      "Initial x:\n",
      "[0. 0. 0.]\n",
      "\n",
      "Iteration 1:\n",
      "[-0.55   inf  -inf]\n",
      "\n",
      "Iteration 2:\n",
      "[nan nan nan]\n",
      "\n",
      "Iteration 3:\n",
      "[nan nan nan]\n",
      "\n",
      "Iteration 4:\n",
      "[nan nan nan]\n",
      "\n",
      "Iteration 5:\n",
      "[nan nan nan]\n",
      "\n",
      "Solution: [nan nan nan]\n",
      "Iterations: 5\n"
     ]
    },
    {
     "name": "stderr",
     "output_type": "stream",
     "text": [
      "C:\\Users\\realm\\AppData\\Local\\Temp\\ipykernel_15120\\2425945200.py:50: RuntimeWarning: divide by zero encountered in scalar divide\n",
      "  x[i] = (1 - omega) * x_old[i] + (omega / A[i, i]) * (b[i] - sigma)\n",
      "C:\\Users\\realm\\AppData\\Local\\Temp\\ipykernel_15120\\2425945200.py:58: RuntimeWarning: invalid value encountered in scalar divide\n",
      "  error = np.linalg.norm(x - x_old) / (np.linalg.norm(x) + np.finfo(float).eps)\n"
     ]
    }
   ],
   "source": [
    "solution, iterations = sor(A, b, omega, x0, tolerance, max_iterations)\n",
    "print(\"Solution:\", solution)\n",
    "print(\"Iterations:\", iterations)"
   ]
  },
  {
   "cell_type": "code",
   "execution_count": null,
   "id": "deeb2c09",
   "metadata": {},
   "outputs": [],
   "source": []
  }
 ],
 "metadata": {
  "kernelspec": {
   "display_name": "Python 3 (ipykernel)",
   "language": "python",
   "name": "python3"
  },
  "language_info": {
   "codemirror_mode": {
    "name": "ipython",
    "version": 3
   },
   "file_extension": ".py",
   "mimetype": "text/x-python",
   "name": "python",
   "nbconvert_exporter": "python",
   "pygments_lexer": "ipython3",
   "version": "3.11.7"
  }
 },
 "nbformat": 4,
 "nbformat_minor": 5
}
